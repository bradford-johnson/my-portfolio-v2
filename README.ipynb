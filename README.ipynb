{
  "cells": [
    {
      "cell_type": "raw",
      "metadata": {},
      "source": [
        "---\n",
        "title: My Project\n",
        "format: gfm\n",
        "---"
      ],
      "id": "f1dbbb9c"
    },
    {
      "cell_type": "markdown",
      "metadata": {},
      "source": [
        "This is a GitHub README that has content dynamically generated from Python:\n"
      ],
      "id": "4033c2dc"
    },
    {
      "cell_type": "code",
      "metadata": {},
      "source": [
        "conda install jupyter\n",
        "answer = 1 + 1 \n",
        "print(\"Hello, world\", answer)"
      ],
      "id": "931e7a5e",
      "execution_count": null,
      "outputs": []
    }
  ],
  "metadata": {
    "kernelspec": {
      "display_name": "Python 3",
      "language": "python",
      "name": "python3"
    }
  },
  "nbformat": 4,
  "nbformat_minor": 5
}